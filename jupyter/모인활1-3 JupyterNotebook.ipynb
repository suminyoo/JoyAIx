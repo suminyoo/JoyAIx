{
 "cells": [
  {
   "cell_type": "markdown",
   "metadata": {},
   "source": [
    "The fear of the LORD is the beginning of knowledge, but fools despise wisdom and discipline. Proverbs 1:7\n",
    "\n",
    "-------\n",
    "\n",
    "# Welcome to \"AI for All\"\n",
    "\n",
    "Lecture Notes by idebtor@gmail.com, Handong Global University"
   ]
  },
  {
   "cell_type": "markdown",
   "metadata": {},
   "source": [
    "# 1. Jupyter Notebook\n",
    "\n",
    "The **Jupyter Notebook** is a web-based interactive computational environment where you can combine code execution, text, mathematics, plots and rich media into a single document. These files have **ipynb** extensions. A notebook consists of a series of cells which contains either code or document. \n",
    "\n",
    "- If you are new to Python see http://python.org - it will be best to spend some time learning basic Python syntax before attempting the interactive parts of these lessons.\n",
    "\n",
    "- If you are new to Jupyter Notebook see http://ipython.org/notebook - prepare to be impressed.\n",
    "\n",
    "- If you are new to numpy/scipy/matplotlib/pandas see http://www.scipy.org/ - it is not necessary to have a mastery of all these to get value out of these lessons.  However the more you know these technologies the faster you will be able to apply these techniques immediately."
   ]
  },
  {
   "cell_type": "markdown",
   "metadata": {},
   "source": [
    "# 2. Why Jupyter Notebook?\n",
    "\n",
    "네이처 지의 Toolbox 섹션에 [“Why Jupyter is data scientists’ computational notebook of choice”](https://www.nature.com/articles/d41586-018-07196-1)(주피터가 데이터 과학자를 위한 선택된 계산용 노트북이 된 이유는?)라는 글이 실릴 정도로 주피터 노트북은 데이터 과학자들 사이에서 사랑을 받고 있습니다. \n",
    "\n",
    "<img attr=\"center\" src=\"https://github.com/idebtor/KMOOC-ML/blob/master/ipynb/images/nb_why_jupyter.png?raw=true\">\n",
    "<center>그림 1: 주피터가 왜 데이터 과학자를 위한 노트북인가?(Nature's Article) </center>"
   ]
  },
  {
   "cell_type": "markdown",
   "metadata": {},
   "source": [
    "더불어 Python도 역시 엔지니어링뿐만 아니라 인문 사회학계를 포함하여 모든 학계에서 가장 선호하는 프로그래밍 언어가 되었습니다. 주피터 노트북에서는 다른 언어도 지원하지만, 파이썬이 가장 많이 사용되고 있습니다. \n",
    "\n",
    "특별히, 인공지능과 머신러닝의 데이터 분석에는 주피터 노트북과 파이썬이 단연 압도적으로 인기를 끌고 있습니다. 우리가 이번 학기에 이 세 가지를 모두 조금씩 다루어 보면서 경험해 보면서, 여러분 각자가 앞으로 더 깊이 있는 전공 공부를 할 수 있는 디딤돌을 놓으려고 합니다.  "
   ]
  },
  {
   "cell_type": "markdown",
   "metadata": {},
   "source": [
    "우선, 인공지능이나 머신러닝에 주피터 노트북을 사용해야 하는 이유를 알아보면, 여기에 다 열거할 수 없을 정도입니다. [참고](https://medium.com/@salaryup/%EB%A8%B8%EC%8B%A0%EB%9F%AC%EB%8B%9D%EC%97%90-%ED%8C%8C%EC%9D%B4%EC%8D%AC-%EB%85%B8%ED%8A%B8%EB%B6%81%EC%9D%84-%EC%82%AC%EC%9A%A9%ED%95%B4%EC%95%BC-%ED%95%98%EB%8A%94-10%EA%B0%80%EC%A7%80-%EC%9D%B4%EC%9C%A0-feat-%ED%81%B4%EB%A6%B0%EC%BD%94%EB%93%9C-d7c170925309) \n",
    "\n",
    "1. __문서에 다양한 표현 수단을 제공한다.__ 파이썬 노트북은 코드, 텍스트, 그래프, 이미지, 비디오, 수식, 지도를 문서 하나에 모두 통합해서 표현할 수 있다.\n",
    "\n",
    "1. __공유가 손쉽다.__ 파이썬 노트북은 텍스트 문서이므로 앞서 이야기한 깃허브, 구글 드라이브, 드롭박스를 위시해 다양한 사이트에서 공유가 가능하다. 심지어 바인더라는 서비스를 사용하면 상호대화식 노트북을 도커 형태로 공유할 수도 있다.\n",
    "\n",
    "1. __웹 브라우저만 있으면 된다.__ 복잡한 프로그램 설치나 구성 과정 없이 웹 브라우저만 있으면 파이썬 노트북 서버에 접속해서 작업을 바로 시작할 수 있다.\n",
    "\n",
    "1. __다양한 프로그래밍 언어를 지원한다.__ 데이터 과학자들이 많이 사용하는 파이썬과 R은 물론이고 40여 개에 이르는 프로그래밍 언어를 지원한다.\n",
    "\n",
    "1. __상호 대화식으로 동작한다.__ 코드를 작성하고 즉시 실행해 결과를 볼 수 있으며, 중간에 그래프를 그리거나 이미지를 출력하는 등 다양한 시각화 효과까지 곁들일 수 있다.\n",
    "\n",
    "1. __다중 사용자를 지원한다.__ 주피터 허브(JupyterHub)를 사용하면 공동으로 작업할 필요가 있는 다중 사용자를 동시에 지원해서 작업 생산성을 높여준다.\n",
    "\n",
    "1. __보고서 형태로 결과만 확인할 수 있다.__ 만들어진 파이썬 노트북은 nbviewer를 사용해 파이썬 노트북 서비스에 익숙하지 않은 사람들도 읽기 전용의 보고서 형태로 손쉽게 확인할 수 있다. 또한 nbconvert를 사용하면 노트북을 HTML이나 PDF와 같은 문서로 바로 변환할 수 있다.\n",
    "\n",
    "1. __확장성이 높다.__ 통신 프로토콜과 위젯 API가 모두 공개되어 있으므로 파이썬 노트북을 확장하는 여러 가지 애플리케이션과 위젯이 늘어나고 있다. 3차원 데이터 시각화, 구글 맵스를 활용한 지도 표시 등 다양한 컴포넌트를 활용할 수 있다.\n",
    "\n",
    "1. __무엇보다 쉽다.__ 파이썬 노트북의 문서 작성 마크업 언어인 마크다운 언어는 복잡하지 않으므로 금방 배울 수 있으며, 파이썬 노트북의 편집기도 특별히 학습해야만 사용 가능한 복잡한 기능이 없으므로 쉽게 익숙해질 수 있다.\n",
    "\n",
    "\n",
    "이렇게 유용한 파이썬 노트북도 제대로 사용하기 위해서는 우리가 몇 가지 배워야 할 것들이 있습니다. 가장 먼저, 알아야 할 것은 주피터 노트북을 어떻게 시작할 수 있느냐는 것입니다. "
   ]
  },
  {
   "cell_type": "markdown",
   "metadata": {},
   "source": [
    "# 3. A few ways to start Jupyter notebook\n",
    "\n",
    "__Method 1__: \n",
    "This option always works:\n",
    "  1. Go to the Windows menu `<Start> -> <Anaconda 3> -> <Anaconda Prompt>`\n",
    "     For OSX, start a terminal. \n",
    "  2. At a console, enter the following:\n",
    "  ```\n",
    "  (base) C:\\Users\\user> jupyter notebook\n",
    "  ```\n",
    "\n",
    "__Method 2__: (Windows Only)\n",
    "This method may not work unless you have set PATH environment variable.\n",
    "  1. Using File Explorer, navigate to where your Jupyter notebook file is\n",
    "  2. Using File menu in File Explorer, click Open PowerShell(PS).\n",
    "  3. At PS console, enter the following:\n",
    "  ```\n",
    "  PS C:\\> jupyter notebook\n",
    "  ```\n",
    "\n",
    "__Method 3__: (Windows Only)\n",
    "This is one-line batch command file that runs Jupyter notebook.\n",
    "  1. Get a copy of the batch file `start_ipynb.bat` which is available at https://github.com/idebtor/JoyAI\n",
    "  2. Place the batch file at the folder where your notebook file is.\n",
    "  3. Double-click the batch file.\n",
    "\n",
    "__Method 4__: (Windows & OSX)\n",
    "\n",
    "This is not recommended since it is too slow to start the notebook. \n",
    "  1. Using Anaconda Navigator, choose Jupyter Notebook."
   ]
  },
  {
   "cell_type": "markdown",
   "metadata": {},
   "source": [
    "# 4. 콘솔과 대시보드(Dashboard) \n",
    "\n",
    "주피터 노트북을 시작하면 가장 먼저 콘솔이 생기면서 Local 웹서버가 만들어지고, 웹서버의 Client로 디폴드 웹브라우저에 주피터 노트북의 웹페이지가 나타납니다. 다음 그림에 웹서버의 주소를 관찰할 수 있습니다. "
   ]
  },
  {
   "cell_type": "markdown",
   "metadata": {},
   "source": [
    "<img attr=\"center\" src=\"https://github.com/idebtor/KMOOC-ML/blob/master/ipynb/images/nb_console.png?raw=true\">\n",
    "<center>그림 2: 주피터 웹서버 콘솔 </center>"
   ]
  },
  {
   "cell_type": "markdown",
   "metadata": {},
   "source": [
    "\n",
    "이 첫 웹 페이지를 대시보드(Dashboard)라 부릅니다. 대시보드는 폴더와 파일들이 나열되어 있고, 폴더와 파일들을 쉽게 접근할 수 있도록 도와주는 일종의 파일 탐색기입니다. 새로운 notebook 파일도 생성할 수 있고, 저장 및 삭제가 가능합니다.  \n",
    "\n",
    "주피터 노트북의 모든 작업은 웹에서 수행할 수 있습니다. 대시보드 탭을 삭제했을 경우는, 콘솔에서 Local 웹서버의 주소를 복사하여, 웹주소창에 넣으면, 다시 대시보드를 복구할 있습니다. \n",
    "\n",
    "대시보드의 오른쪽 위에 있는 `[New] -> [Python 3]` 메뉴를 차례로 선택하여 새로운 노트북 파일을 생성할 수 있습니다. "
   ]
  },
  {
   "cell_type": "markdown",
   "metadata": {},
   "source": [
    "<img attr=\"center\" src=\"https://github.com/idebtor/KMOOC-ML/blob/master/ipynb/images/nb_dashboard.png?raw=true\">\n",
    "<center>그림 3: 주피터 노트북 대시보드 </center>"
   ]
  },
  {
   "cell_type": "markdown",
   "metadata": {},
   "source": [
    "# 5. 문서와 코드 작성하기\n",
    "\n",
    "주피터 노트북이 다른 IDE 개발 환경(PyCharm, Visual Studio 등등)과 구별되는 점은 문서와 코드를 가장 보편적인 웹 환경에서 한 번에 함께 작업할 수 있다는 것입니다. \n",
    "\n",
    "노트북은 두 종류의 셀(Cell)로 구성되어 있습니다. 하나는 Markdown 셀이고, 다른 하나는 코드 셀입니다. Markdown 셀은 문서 작성에 사용되며, 아주 간편한 Markdown 문법으로 작성하는데, 자세한 것은 여기를 참조하십시오. 코드 셀은 파이썬으로 작성합니다. \n",
    "\n",
    "이렇게 작성한 셀을 실행하면 셀의 특성에 따라 실행 결과가 엡에 표현이 됩니다. 입력한 셀의 실행은 다음 세 가지 방법 중에 하나로 할 수 있습니다. \n",
    "\n",
    "1. `<Shift + Enter>`   셀을 실행하고 다음 셀로 이동합니다.\n",
    "1. `<Ctrl + Enter>`    셀을 실행합니다.\n",
    "1. `<Alt + Enter>`     셀을 실행하고, 아래에 새로운 셀을 생성합니다. \n"
   ]
  },
  {
   "cell_type": "markdown",
   "metadata": {},
   "source": [
    "물론, 노트북 윗부분에 있는 직관적으로 기능을 알 수 있는 메뉴 아이콘들을 사용하여 적절한 작업을 할 수 있습니다. \n",
    "\n",
    "<img attr=\"center\" src=\"https://github.com/idebtor/KMOOC-ML/blob/master/ipynb/images/nb_menu.png?raw=true\">\n",
    "<center>그림 4: 노트북 편집창의 전체 메뉴 </center>"
   ]
  },
  {
   "cell_type": "markdown",
   "metadata": {},
   "source": [
    "커넬 부분 메뉴는 다음과 같습니다. 코드 셀을 실행했는데, 만약 무한 루프에 걸려 있거나 시간이 너무 지체되었을 때, 강제로 커넬의 실행을 중단하고 다시 시작할 수 있습니다. \n",
    "\n",
    "<img attr=\"center\" src=\"https://github.com/idebtor/KMOOC-ML/blob/master/ipynb/images/nb_kernel.png?raw=true\">\n",
    "<center>그림 5: 노트북 커넬 메뉴 설명 </center>"
   ]
  },
  {
   "cell_type": "markdown",
   "metadata": {},
   "source": [
    "좀 더 자세한 설명이 필요하면 인터넷 검색을 통해 알아보길 바랍니다.  \n",
    "- https://doomed-lab.tistory.com/28\n",
    "- https://dojang.io/mod/page/view.php?id=2457"
   ]
  },
  {
   "cell_type": "markdown",
   "metadata": {},
   "source": [
    "\n",
    "# 6. 단축키 (Shortcut or hot-key)\n",
    "\n",
    "주피터 노트북의 셀을 편집할 때 2가지 모드가 있습니다. 셀을 선택하여 셀 자체를 다루는 셀 선택(명령)모드와 셀 안의 내용을 편집하는 모드입니다. 현재 셀의 모드는 셀 테두리의 색으로 구별할 수 있습니다. \n",
    "\n",
    "- 명령 모드(Command Mode): 파란색, 셀을 선택하여 셀 자체를 다룰 수 있는 모드\n",
    "- 입력 모드(Edit Mode): 초록색, 셀 안의 내용을 편집할 때 사용하는 모드\n",
    "\n",
    "단축키에 익숙해지면, 빠르게 셀을 편집하고 다룰 수 있어서 참 편합니다."
   ]
  },
  {
   "cell_type": "markdown",
   "metadata": {},
   "source": [
    "`<Esc>` 키를 눌러 명령 모드로 들어갈 수 있고, `<Enter>`키를 눌러 편집 모드로 들어갈 수 있습니다. \n",
    "\n",
    "<img attr=\"center\" src=\"https://github.com/idebtor/KMOOC-ML/blob/master/ipynb/images/nb_hotkey1.png?raw=true\" width=400>\n",
    "<center>그림 5: 주피터 노트북 단축키(명령 모드 혹은 셀 선택 모드) </center>"
   ]
  },
  {
   "cell_type": "markdown",
   "metadata": {},
   "source": [
    "<img attr=\"center\" src=\"https://github.com/idebtor/KMOOC-ML/blob/master/ipynb/images/nb_hotkey2.png?raw=true\" width=400>\n",
    "<center>그림 6: 주피터 노트북 단축키(명령 모드 혹은 셀 선택 모드) </center>"
   ]
  },
  {
   "cell_type": "markdown",
   "metadata": {},
   "source": [
    "주피터 노트북에서는 단축키 변경도 가능하다. `[Help] - [Edit Keyboard ShortCut]`에 가면 기존의 단축키를 수정하거나 추가할 수도 있다. "
   ]
  },
  {
   "cell_type": "markdown",
   "metadata": {},
   "source": [
    "# 7. 확장 프로그램 설치하기(nbextension)\n",
    "\n",
    "다양한 기능들을 추가적으로 설치하여 노트북 사용의 효율성을 높일 수 있습니다. \n",
    "\n",
    "\n",
    "- `pip install jupyter_contrib_nbextensions`      # 라이브러리 설치\n",
    "- `jupyter contrib nbextension install --user`    # 주피터 노트북에서 보일 수 있도록 등록\n",
    "\n",
    "<img attr=\"center\" src=\"https://github.com/idebtor/KMOOC-ML/blob/master/ipynb/images/nb_extensions.png?raw=true\">\n",
    "<center>그림 7: 주피터 노트북 확장 프로그램(Nbextensions)</center>"
   ]
  },
  {
   "cell_type": "markdown",
   "metadata": {},
   "source": [
    "주피터 노트북 대시보드 화면에서 위와 같이 Nbextensions 탭이 생성된것을 확인할 수 있습니다.확장탭이 보이지 않는다면 Edit > nbextensions config 에 들어가서 설정이 가능합니다. 설치가 정상적으로 완료되었다면 노트북을 실행하였을 때 다음과 같은 툴바가 생성됨을 확인할 수 있습니다.\n",
    "\n",
    "많은 개발자들이 다음과 같은 확장프로그램들을 추천합니다.\n",
    "[여기 설명을 참조하십시오](https://www.rlee.ai/jupyter/jupyter-notebook-exntesions)\n",
    "1. Variable Inspector(변수 탐색기)\n",
    "1. Codefolding (코드접기)\n",
    "1. Collapsible Headings (섹션접기)\n",
    "1. Table of Contents (목차)\n",
    "1. Hinterland (코드 자동 완성 기능)"
   ]
  },
  {
   "cell_type": "markdown",
   "metadata": {},
   "source": [
    "# 8. Markdown 언어 문법\n",
    "\n",
    "- [AI4ALL1-3Markdown.ipynb](https://github.com/idebtor/JoyAI/blob/master/ipynb/AI4ALL1-3Markdown.ipynb)을 참조하십시오."
   ]
  },
  {
   "cell_type": "markdown",
   "metadata": {},
   "source": [
    "# 9. 실습 - Step by Step 따라하기\n",
    "\n",
    "쉬운 것부터 차례대로 몇가지 따라하기 실습이 [여기](https://copycoding.tistory.com/72) 있습니다. 여러 분이 처음 주피터 노트북을 시도해보고 있다면, 한 번만 따라 해보십시오. 가벼운 마음으로. \n",
    "\n",
    "[따라하기 십습 웹사이트](https://copycoding.tistory.com/72)"
   ]
  },
  {
   "cell_type": "markdown",
   "metadata": {},
   "source": [
    "----------"
   ]
  },
  {
   "cell_type": "markdown",
   "metadata": {},
   "source": [
    "-------\n",
    "__Be joyful always!__ 1 Thes.5:16"
   ]
  }
 ],
 "metadata": {
  "kernelspec": {
   "display_name": "Python 3",
   "language": "python",
   "name": "python3"
  },
  "language_info": {
   "codemirror_mode": {
    "name": "ipython",
    "version": 3
   },
   "file_extension": ".py",
   "mimetype": "text/x-python",
   "name": "python",
   "nbconvert_exporter": "python",
   "pygments_lexer": "ipython3",
   "version": "3.8.10"
  }
 },
 "nbformat": 4,
 "nbformat_minor": 4
}
