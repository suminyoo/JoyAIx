{
 "cells": [
  {
   "cell_type": "markdown",
   "metadata": {},
   "source": [
    "StarGAN에 대한 간단한 이론 설명입니다.\n",
    "\n",
    "부족한 실력으로 온전히 논문을 이해할 수 없어서 눈에띄는 간단한 모델 설명만 하도록 하겠습니다 :)"
   ]
  },
  {
   "cell_type": "markdown",
   "metadata": {},
   "source": [
    "# GAN model\n",
    "----------------------------------------\n",
    "<p align=\"center\"><img width=\"100%\" src=\"model.jpg\" /></p>\n",
    "\n",
    "StarGAN은 기본적으로 GAN 구조를 따릅니다. GAN은 Generative Adversarial Networks의 약자로, 크게는 Generator와 Discriminator 모델로 나누게 됩니다. GAN은 흔히 경찰과 도둑의 비유로 설명되어집니다. GAN에서 Generator는 주어진 input 영상을 바탕으로 최대한 그 영상과 비슷하도록 영상을 생성(generate)하도록 학습되어지고, 그와는 반대로 Discriminator는 Generator에서 생성된 영상이 실제 true value를 갖는 영상인지 생성된 가짜 영상인지를 구분하도록 학습되어집니다. 이를 경찰과 도둑의 비유로 표현하자면, Generator는 도둑에 해당하여 경찰관(Discriminator)를 속이기 위하여 위조품을 최대한 진짜같이 만들도록 노력(학습)하고, Discriminator는 경찰관으로서 자신이 받은 영상이 도둑이 만든 위조품인지 진품인지를 판별하도록 노력(학습)하는 과정으로 진행되게 됩니다. 이러한 학습 모델은 단일 모델로 학습하는 것에 비교해 더 빠르고 좋은 성능으로 학습을 가능캐하였고, 특히 영상처리 분야에서의 generating 과정이 포함되는 응용분야에 잘 사용됩니다.\n",
    "\n",
    "\n",
    "<p align=\"center\"><img width=\"100%\" src=\"multi_domain.png\" /></p>\n",
    "\n",
    "이러한 GAN 모델을 바탕으로, StarGAN은 일반적인 한가지 응용을 위한 학습이 아닌, 학습데이터 영상들에서 다양한 domain에 대한 레이블링과 특성을 추출하여 학습함으로서 다양한 응용을 한번에 실행할 수 있게 됩니다. 바로 위의 사진은 이러한 구조를 간단히 사진으로 나타낸 것입니다.\n",
    "\n",
    "\n",
    "마지막으로 최종적인 학습은 다음과 같이 이루어집니다.\n",
    "\n",
    "<p align=\"center\"><img width=\"100%\" src=\"model2.jpg\" /></p>\n"
   ]
  },
  {
   "cell_type": "markdown",
   "metadata": {},
   "source": []
  },
  {
   "cell_type": "markdown",
   "metadata": {},
   "source": []
  }
 ],
 "metadata": {
  "kernelspec": {
   "display_name": "Python 3",
   "language": "python",
   "name": "python3"
  },
  "language_info": {
   "codemirror_mode": {
    "name": "ipython",
    "version": 3
   },
   "file_extension": ".py",
   "mimetype": "text/x-python",
   "name": "python",
   "nbconvert_exporter": "python",
   "pygments_lexer": "ipython3",
   "version": "3.7.3"
  }
 },
 "nbformat": 4,
 "nbformat_minor": 2
}
