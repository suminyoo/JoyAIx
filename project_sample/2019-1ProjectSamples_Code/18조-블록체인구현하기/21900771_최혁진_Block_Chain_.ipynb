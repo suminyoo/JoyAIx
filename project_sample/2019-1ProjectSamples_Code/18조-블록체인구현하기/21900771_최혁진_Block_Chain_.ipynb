{
 "cells": [
  {
   "cell_type": "markdown",
   "metadata": {},
   "source": [
    "# 블록이 어떻게 생겼나?"
   ]
  },
  {
   "cell_type": "code",
   "execution_count": 9,
   "metadata": {
    "scrolled": true
   },
   "outputs": [
    {
     "name": "stdout",
     "output_type": "stream",
     "text": [
      "hash 591bab3c46b8934f28f82aeada6165c6ca154207fe09192f87b11297e84159be\n"
     ]
    }
   ],
   "source": [
    "bblock=Block(0,'01/01/2017','Genesis Block')\n",
    "bblock.printHashes()"
   ]
  },
  {
   "cell_type": "code",
   "execution_count": 4,
   "metadata": {},
   "outputs": [
    {
     "name": "stdout",
     "output_type": "stream",
     "text": [
      "hash 3d69516c9315752231b791d67a9d40792723bca854ca0be5ea52434579d7af25\n"
     ]
    }
   ],
   "source": [
    "bblock=Block(0,'01/01/2017','Genesis Blck')\n",
    "bblock.printHashes() #스펠링 하나만 달라져도 완전히 다라지는 해쉬값을 볼 수 있음 "
   ]
  },
  {
   "cell_type": "markdown",
   "metadata": {},
   "source": [
    "# 블록 만들기"
   ]
  },
  {
   "cell_type": "code",
   "execution_count": 11,
   "metadata": {},
   "outputs": [],
   "source": [
    "import hashlib\n",
    "import json\n",
    "\n",
    "class Block(): #블록을 만들어줌\n",
    "    def __init__(self,nonce,tstamp,transaction,prevhash=''):#class를 통해 블록을 정의 #self 는 생성되는 객체\n",
    "        self.nonce=nonce #논스\n",
    "        self.tstamp=tstamp #언제 만들어 졌는지\n",
    "        self.transaction=transaction #실제 데이터 정보인 트랜젝션\n",
    "        self.prevhash=prevhash #이전 블록의 해시 값\n",
    "        self.hash=self.calcHash() #현재 블록의 해시 값\n",
    "    def calcHash(self):\n",
    "        block_string=json.dumps({\"nonce\":self.nonce,\"tstamp\":self.tstamp,\"transaction\":self.transaction,\"prevhash\":self.prevhash},sort_keys=True).encode()\n",
    "        return hashlib.sha256(block_string).hexdigest() #haslib을 통한 암호화가 들어감 # sha256을 통해 해시값을 얻음\n",
    "    def __str__(self):\n",
    "        string = \"nonce: \" + str(self.nonce) + \"\\n\"\n",
    "        string += \"tstamp: \" + str(self.tstamp) + \"\\n\"\n",
    "        string += \"transaction: \" + str(self.transaction) + \"\\n\"\n",
    "        string += \"hash: \" + str (self.hash) + \"\\n\"\n",
    "        \n",
    "        return string\n",
    "    def printHashes(self):\n",
    "        print(\"hash\",self.hash) # 현재 해시값 출력"
   ]
  },
  {
   "cell_type": "markdown",
   "metadata": {},
   "source": [
    "# 블록 체인 만들기\n",
    "\n",
    "### 블록 체인 코드 구현"
   ]
  },
  {
   "cell_type": "code",
   "execution_count": 12,
   "metadata": {},
   "outputs": [],
   "source": [
    "class BlockChain(): #블록을 이용해 블록 체인을 구현\n",
    "    def __init__(self):\n",
    "        self.chain=[self.generateGenesisBlock(),]\n",
    "    def generateGenesisBlock(self):\n",
    "        return Block(0,'01/01/2017','Genesis Block')\n",
    "    def getLastBlock(self):\n",
    "        return self.chain[-1]\n",
    "    def addBlock(self,newBlock):\n",
    "        newBlock.prevhash=self.getLastBlock().hash\n",
    "        newBlock.hash = newBlock.calcHash()\n",
    "        self.chain.append(newBlock)\n",
    "    def isChainValid(self):\n",
    "        for i in range(1, len(self.chain)):\n",
    "            prevb=self.chain[i-1]\n",
    "            currb=self.chain[i]\n",
    "            if(currb.hash != currb.calcHash()):\n",
    "                print(\"invalid block\")\n",
    "                return False\n",
    "            if(currb.prevhash != prevb.hash):\n",
    "                print(\"invalid chain\")\n",
    "                return False\n",
    "        return True\n",
    "            "
   ]
  },
  {
   "cell_type": "markdown",
   "metadata": {},
   "source": [
    "### 구현된 코드를 통해 블록체인 만들어 보기"
   ]
  },
  {
   "cell_type": "code",
   "execution_count": 13,
   "metadata": {},
   "outputs": [],
   "source": [
    "Jinscoin = BlockChain()\n",
    "Jinscoin.addBlock(Block(1,'20/05/2017', 1000000)) #블락들의 생성은 transaction이 발생했다는 것을 의미\n",
    "Jinscoin.addBlock(Block(2,'20/05/2017', 20))\n",
    "Jinscoin.addBlock(Block(3,'21/05/2017', -20))\n",
    "\n"
   ]
  },
  {
   "cell_type": "code",
   "execution_count": 14,
   "metadata": {
    "scrolled": true
   },
   "outputs": [
    {
     "name": "stdout",
     "output_type": "stream",
     "text": [
      "<__main__.BlockChain object at 0x000001AB80253C50>\n"
     ]
    }
   ],
   "source": [
    "print (Jinscoin)"
   ]
  },
  {
   "cell_type": "code",
   "execution_count": 15,
   "metadata": {
    "scrolled": false
   },
   "outputs": [
    {
     "name": "stdout",
     "output_type": "stream",
     "text": [
      "nonce: 0\n",
      "tstamp: 01/01/2017\n",
      "transaction: Genesis Block\n",
      "hash: 591bab3c46b8934f28f82aeada6165c6ca154207fe09192f87b11297e84159be\n",
      "\n",
      "nonce: 1\n",
      "tstamp: 20/05/2017\n",
      "transaction: 1000000\n",
      "hash: 99140c962a551358ac4b29622b2ee262448283b5efcdd74e2d6ff35877d4b7e9\n",
      "\n",
      "nonce: 2\n",
      "tstamp: 20/05/2017\n",
      "transaction: 20\n",
      "hash: 0df14309c748361100598888d0e4124e9608166e00379d0a433bcae3dfadf119\n",
      "\n",
      "nonce: 3\n",
      "tstamp: 21/05/2017\n",
      "transaction: -20\n",
      "hash: 8d860272568ac8cc03a070f955f4b7d2c9c6071a3c4cd7236d7834339e511ac3\n",
      "\n"
     ]
    }
   ],
   "source": [
    "for  b in Jinscoin.chain:\n",
    "    print (b)"
   ]
  },
  {
   "cell_type": "code",
   "execution_count": 16,
   "metadata": {},
   "outputs": [
    {
     "name": "stdout",
     "output_type": "stream",
     "text": [
      "True\n"
     ]
    }
   ],
   "source": [
    "print(Jinscoin.isChainValid())"
   ]
  },
  {
   "cell_type": "markdown",
   "metadata": {},
   "source": [
    "### 블록 체인을 임의로 해킹해 보고 코드가 제대로 작동 되는지 실험해 보기"
   ]
  },
  {
   "cell_type": "code",
   "execution_count": 29,
   "metadata": {},
   "outputs": [
    {
     "name": "stdout",
     "output_type": "stream",
     "text": [
      "nonce: 0\n",
      "tstamp: 01/01/2017\n",
      "transaction: Genesis Block\n",
      "hash: 591bab3c46b8934f28f82aeada6165c6ca154207fe09192f87b11297e84159be\n",
      "\n",
      "nonce: 1\n",
      "tstamp: 20/05/2017\n",
      "transaction: 33333\n",
      "hash: 99140c962a551358ac4b29622b2ee262448283b5efcdd74e2d6ff35877d4b7e9\n",
      "\n",
      "nonce: 2\n",
      "tstamp: 20/05/2017\n",
      "transaction: 20\n",
      "hash: 978c5ef7997cb5bf427a49d1fa37954a8e3755b4af5896e62b1a291f564eb2da\n",
      "\n",
      "nonce: 3\n",
      "tstamp: 21/05/2017\n",
      "transaction: -20\n",
      "hash: 8d860272568ac8cc03a070f955f4b7d2c9c6071a3c4cd7236d7834339e511ac3\n",
      "\n",
      "invalid block\n",
      "False\n"
     ]
    }
   ],
   "source": [
    "Jinscoin = BlockChain()\n",
    "Jinscoin.addBlock(Block(1,'20/05/2017', 1000000)) #블락들의 생성은 transaction이 발생했다는 것을 의미\n",
    "Jinscoin.addBlock(Block(2,'20/05/2017', 20))\n",
    "Jinscoin.addBlock(Block(3,'21/05/2017', -20))\n",
    "\n",
    "    \n",
    "Jinscoin.chain[1].transaction = 33333 # 옳지 않은 transaction \n",
    "Jinscoin.chain[2].hash=Jinscoin.chain[1].calcHash()\n",
    "for b in Jinscoin.chain:\n",
    "    print (b)\n",
    "    \n",
    "print(Jinscoin.isChainValid())"
   ]
  },
  {
   "cell_type": "code",
   "execution_count": null,
   "metadata": {},
   "outputs": [],
   "source": []
  },
  {
   "cell_type": "code",
   "execution_count": null,
   "metadata": {},
   "outputs": [],
   "source": []
  }
 ],
 "metadata": {
  "kernelspec": {
   "display_name": "Python 3",
   "language": "python",
   "name": "python3"
  },
  "language_info": {
   "codemirror_mode": {
    "name": "ipython",
    "version": 3
   },
   "file_extension": ".py",
   "mimetype": "text/x-python",
   "name": "python",
   "nbconvert_exporter": "python",
   "pygments_lexer": "ipython3",
   "version": "3.7.3"
  }
 },
 "nbformat": 4,
 "nbformat_minor": 2
}
